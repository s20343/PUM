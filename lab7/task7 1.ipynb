{
  "cells": [
    {
      "cell_type": "code",
      "source": [
        "\n",
        "\n",
        "import tensorflow as tf\n",
        "import numpy as np\n",
        "import mnist\n",
        "\n",
        "from keras.models import Sequential\n",
        "from keras.layers import Dense\n",
        "from keras.callbacks import EarlyStopping\n",
        "from keras.callbacks import ModelCheckpoint\n",
        "from keras.models import load_model\n",
        "from matplotlib import pyplot\n",
        "import matplotlib.pyplot as plt\n",
        "from keras.utils import to_categorical\n",
        "\n",
        "from tensorflow import keras\n",
        "from keras import backend as K"
      ],
      "outputs": [],
      "execution_count": 1,
      "metadata": {
        "colab": {
          "base_uri": "https://localhost:8080/"
        },
        "id": "0hk22wZDYbVQ",
        "outputId": "fbee06d1-3c7e-4884-f230-d657e6f7b4de"
      }
    },
    {
      "cell_type": "code",
      "source": [
        "train_images = mnist.train_images()\n",
        "train_labels = mnist.train_labels()\n",
        "test_images = mnist.test_images()\n",
        "test_labels = mnist.test_labels()\n",
        "\n",
        "train_images = (train_images / 255) - 0.5\n",
        "test_images = (test_images / 255) - 0.5\n",
        "\n",
        "train_images = train_images.reshape((-1, 784))\n",
        "test_images = test_images.reshape((-1, 784))\n",
        "\n",
        "model = Sequential([\n",
        "  Dense(64, activation='relu', input_shape=(784,)),\n",
        "  Dense(64, activation='relu'),\n",
        "  Dense(10, activation='softmax'),\n",
        "])"
      ],
      "outputs": [],
      "execution_count": 2,
      "metadata": {
        "id": "2CPZuB2vsqBS"
      }
    },
    {
      "cell_type": "code",
      "source": [
        "model.compile(\n",
        "  optimizer='adam',\n",
        "  loss='categorical_crossentropy',\n",
        "  metrics=['accuracy'],\n",
        ")"
      ],
      "outputs": [],
      "execution_count": 3,
      "metadata": {
        "id": "T-nhhMPgV6VD"
      }
    },
    {
      "cell_type": "markdown",
      "source": [
        "### 📚 Task 1\n",
        "##### Create the new variable \"f1\", refer to early stopping class, enter the appropriate values (whatever you want, but enter \"10\" for the patience variable) for parameters such as monitor, mode, verbose and patience."
      ],
      "metadata": {}
    },
    {
      "cell_type": "code",
      "source": [
        "# This callback will stop the training when there is no improvement in the loss for 10 consecutive epochs.\n",
        "f1 = EarlyStopping(monitor='val_loss', mode='min', verbose=1, patience=10)"
      ],
      "outputs": [],
      "execution_count": 4,
      "metadata": {}
    },
    {
      "cell_type": "markdown",
      "source": [
        "### 📚 Task 2\n",
        "##### Create the new variable \"f2\", refer to ModelCheckpoint class, enter a name for your model and the appropriate values for the monitor, mode, verbose and save_best_only parameters (again - whatever you want, experiment 🔬).\n"
      ],
      "metadata": {}
    },
    {
      "cell_type": "code",
      "source": [
        "f2 = ModelCheckpoint(filepath='task3model', monitor='val_accuracy', mode='max', verbose=1, save_best_only=True)"
      ],
      "outputs": [],
      "execution_count": 5,
      "metadata": {}
    },
    {
      "cell_type": "markdown",
      "source": [
        "### 📚 Task 3\n",
        "##### Create the new variable \"history\". This variable should contain the training data (x), trning data labels (y), test data (a), test data labels (b) and the corresponding epochs and verbose parameters created in the previous step. For labels, to_categorical () can be a useful function.\n"
      ],
      "metadata": {}
    },
    {
      "cell_type": "code",
      "source": [
        "history = model.fit(\n",
        "  x=train_images,\n",
        "  y=to_categorical(train_labels),\n",
        "  validation_data=(test_images, to_categorical(test_labels)),\n",
        "  epochs=10,\n",
        "  verbose=1,\n",
        "  batch_size=30,\n",
        "  callbacks=[f1, f2])  "
      ],
      "outputs": [
        {
          "output_type": "stream",
          "name": "stdout",
          "text": "Epoch 1/10\n1972/2000 [============================>.] - ETA: 0s - loss: 0.3586 - accuracy: 0.8906\nEpoch 1: val_accuracy improved from -inf to 0.94400, saving model to task3model\n"
        },
        {
          "output_type": "stream",
          "name": "stderr",
          "text": "WARNING:absl:Found untraced functions such as _update_step_xla while saving (showing 1 of 1). These functions will not be directly callable after loading.\n"
        },
        {
          "output_type": "stream",
          "name": "stdout",
          "text": "INFO:tensorflow:Assets written to: task3model\\assets\n"
        },
        {
          "output_type": "stream",
          "name": "stderr",
          "text": "INFO:tensorflow:Assets written to: task3model\\assets\n"
        },
        {
          "output_type": "stream",
          "name": "stdout",
          "text": "2000/2000 [==============================] - 5s 2ms/step - loss: 0.3563 - accuracy: 0.8914 - val_loss: 0.1907 - val_accuracy: 0.9440\nEpoch 2/10\n1996/2000 [============================>.] - ETA: 0s - loss: 0.1838 - accuracy: 0.9433\nEpoch 2: val_accuracy improved from 0.94400 to 0.95770, saving model to task3model\n"
        },
        {
          "output_type": "stream",
          "name": "stderr",
          "text": "WARNING:absl:Found untraced functions such as _update_step_xla while saving (showing 1 of 1). These functions will not be directly callable after loading.\n"
        },
        {
          "output_type": "stream",
          "name": "stdout",
          "text": "INFO:tensorflow:Assets written to: task3model\\assets\n"
        },
        {
          "output_type": "stream",
          "name": "stderr",
          "text": "INFO:tensorflow:Assets written to: task3model\\assets\n"
        },
        {
          "output_type": "stream",
          "name": "stdout",
          "text": "2000/2000 [==============================] - 4s 2ms/step - loss: 0.1837 - accuracy: 0.9434 - val_loss: 0.1350 - val_accuracy: 0.9577\nEpoch 3/10\n1965/2000 [============================>.] - ETA: 0s - loss: 0.1442 - accuracy: 0.9560\nEpoch 3: val_accuracy improved from 0.95770 to 0.96080, saving model to task3model\n"
        },
        {
          "output_type": "stream",
          "name": "stderr",
          "text": "WARNING:absl:Found untraced functions such as _update_step_xla while saving (showing 1 of 1). These functions will not be directly callable after loading.\n"
        },
        {
          "output_type": "stream",
          "name": "stdout",
          "text": "INFO:tensorflow:Assets written to: task3model\\assets\n"
        },
        {
          "output_type": "stream",
          "name": "stderr",
          "text": "INFO:tensorflow:Assets written to: task3model\\assets\n"
        },
        {
          "output_type": "stream",
          "name": "stdout",
          "text": "2000/2000 [==============================] - 4s 2ms/step - loss: 0.1446 - accuracy: 0.9559 - val_loss: 0.1290 - val_accuracy: 0.9608\nEpoch 4/10\n1981/2000 [============================>.] - ETA: 0s - loss: 0.1209 - accuracy: 0.9635\nEpoch 4: val_accuracy improved from 0.96080 to 0.96680, saving model to task3model\n"
        },
        {
          "output_type": "stream",
          "name": "stderr",
          "text": "WARNING:absl:Found untraced functions such as _update_step_xla while saving (showing 1 of 1). These functions will not be directly callable after loading.\n"
        },
        {
          "output_type": "stream",
          "name": "stdout",
          "text": "INFO:tensorflow:Assets written to: task3model\\assets\n"
        },
        {
          "output_type": "stream",
          "name": "stderr",
          "text": "INFO:tensorflow:Assets written to: task3model\\assets\n"
        },
        {
          "output_type": "stream",
          "name": "stdout",
          "text": "2000/2000 [==============================] - 4s 2ms/step - loss: 0.1204 - accuracy: 0.9636 - val_loss: 0.1059 - val_accuracy: 0.9668\nEpoch 5/10\n1980/2000 [============================>.] - ETA: 0s - loss: 0.1047 - accuracy: 0.9671\nEpoch 5: val_accuracy did not improve from 0.96680\n2000/2000 [==============================] - 3s 1ms/step - loss: 0.1044 - accuracy: 0.9672 - val_loss: 0.1236 - val_accuracy: 0.9625\nEpoch 6/10\n1971/2000 [============================>.] - ETA: 0s - loss: 0.0931 - accuracy: 0.9704\nEpoch 6: val_accuracy did not improve from 0.96680\n2000/2000 [==============================] - 3s 1ms/step - loss: 0.0929 - accuracy: 0.9704 - val_loss: 0.1208 - val_accuracy: 0.9650\nEpoch 7/10\n1967/2000 [============================>.] - ETA: 0s - loss: 0.0859 - accuracy: 0.9725\nEpoch 7: val_accuracy improved from 0.96680 to 0.96720, saving model to task3model\n"
        },
        {
          "output_type": "stream",
          "name": "stderr",
          "text": "WARNING:absl:Found untraced functions such as _update_step_xla while saving (showing 1 of 1). These functions will not be directly callable after loading.\n"
        },
        {
          "output_type": "stream",
          "name": "stdout",
          "text": "INFO:tensorflow:Assets written to: task3model\\assets\n"
        },
        {
          "output_type": "stream",
          "name": "stderr",
          "text": "INFO:tensorflow:Assets written to: task3model\\assets\n"
        },
        {
          "output_type": "stream",
          "name": "stdout",
          "text": "2000/2000 [==============================] - 4s 2ms/step - loss: 0.0853 - accuracy: 0.9727 - val_loss: 0.1174 - val_accuracy: 0.9672\nEpoch 8/10\n1988/2000 [============================>.] - ETA: 0s - loss: 0.0758 - accuracy: 0.9757\nEpoch 8: val_accuracy did not improve from 0.96720\n2000/2000 [==============================] - 3s 1ms/step - loss: 0.0756 - accuracy: 0.9758 - val_loss: 0.1116 - val_accuracy: 0.9672\nEpoch 9/10\n1999/2000 [============================>.] - ETA: 0s - loss: 0.0700 - accuracy: 0.9766\nEpoch 9: val_accuracy improved from 0.96720 to 0.97180, saving model to task3model\n"
        },
        {
          "output_type": "stream",
          "name": "stderr",
          "text": "WARNING:absl:Found untraced functions such as _update_step_xla while saving (showing 1 of 1). These functions will not be directly callable after loading.\n"
        },
        {
          "output_type": "stream",
          "name": "stdout",
          "text": "INFO:tensorflow:Assets written to: task3model\\assets\n"
        },
        {
          "output_type": "stream",
          "name": "stderr",
          "text": "INFO:tensorflow:Assets written to: task3model\\assets\n"
        },
        {
          "output_type": "stream",
          "name": "stdout",
          "text": "2000/2000 [==============================] - 4s 2ms/step - loss: 0.0699 - accuracy: 0.9766 - val_loss: 0.1001 - val_accuracy: 0.9718\nEpoch 10/10\n1980/2000 [============================>.] - ETA: 0s - loss: 0.0638 - accuracy: 0.9794\nEpoch 10: val_accuracy did not improve from 0.97180\n2000/2000 [==============================] - 3s 1ms/step - loss: 0.0639 - accuracy: 0.9794 - val_loss: 0.1150 - val_accuracy: 0.9657\n"
        }
      ],
      "execution_count": 6,
      "metadata": {}
    },
    {
      "cell_type": "markdown",
      "source": [
        "### 📚 Task 4\n",
        "##### Create the new variable \"trained_model\", load the model using the model name from the second point."
      ],
      "metadata": {}
    },
    {
      "cell_type": "code",
      "source": [
        "trained_model = load_model('task3model')"
      ],
      "outputs": [],
      "execution_count": 7,
      "metadata": {}
    },
    {
      "cell_type": "markdown",
      "source": [
        "### 📚 Task 5\n",
        "##### Create the new variable \"train_accuracy\", refer to trained_model.evaluate class, use training data (x) and training data labels (y)."
      ],
      "metadata": {}
    },
    {
      "cell_type": "code",
      "source": [
        "train_accuracy = trained_model.evaluate(\n",
        "    x=train_images,\n",
        "    y=to_categorical(train_labels),\n",
        "    batch_size=30,\n",
        "    verbose=1,\n",
        "    callbacks=[f1, f2]\n",
        ")"
      ],
      "outputs": [
        {
          "output_type": "stream",
          "name": "stdout",
          "text": "2000/2000 [==============================] - 2s 1ms/step - loss: 0.0509 - accuracy: 0.9833\n"
        }
      ],
      "execution_count": 8,
      "metadata": {}
    },
    {
      "cell_type": "markdown",
      "source": [
        "### 📚 Task 6\n",
        "##### Create the new variable \"test_accuracy\", refer to trained_model.evaluate class, use test data (a) and test data labels (b).\n"
      ],
      "metadata": {}
    },
    {
      "cell_type": "code",
      "source": [
        "test_accuracy = trained_model.evaluate(\n",
        "    x=test_images,\n",
        "    y=to_categorical(test_labels),\n",
        "    batch_size=30,\n",
        "    verbose=1,\n",
        "    callbacks=[f1, f2]\n",
        ")"
      ],
      "outputs": [
        {
          "output_type": "stream",
          "name": "stdout",
          "text": "334/334 [==============================] - 1s 1ms/step - loss: 0.1001 - accuracy: 0.9718\n"
        }
      ],
      "execution_count": 9,
      "metadata": {}
    },
    {
      "cell_type": "markdown",
      "source": [
        "### 📚 Task 7\n",
        "##### Perform network training for 100 epochs. When will it end?"
      ],
      "metadata": {}
    },
    {
      "cell_type": "code",
      "source": [
        "model.fit(\n",
        "  x=train_images,\n",
        "  y=to_categorical(train_labels),\n",
        "  validation_data=(test_images, to_categorical(test_labels)),\n",
        "  epochs=100,\n",
        "  verbose=1,\n",
        "  batch_size=30,\n",
        "  callbacks=[f1, f2]\n",
        ")\n",
        "\n",
        "#it stopped after 18 epochs because val_loss did not improve for 10 consecutive epochs(because EarlyStopping \"patience\"is set to 10)"
      ],
      "outputs": [
        {
          "output_type": "stream",
          "name": "stdout",
          "text": "Epoch 1/100\n1963/2000 [============================>.] - ETA: 0s - loss: 0.0610 - accuracy: 0.9802\nEpoch 1: val_accuracy did not improve from 0.97180\n2000/2000 [==============================] - 3s 2ms/step - loss: 0.0609 - accuracy: 0.9802 - val_loss: 0.1087 - val_accuracy: 0.9695\nEpoch 2/100\n1980/2000 [============================>.] - ETA: 0s - loss: 0.0564 - accuracy: 0.9815\nEpoch 2: val_accuracy did not improve from 0.97180\n2000/2000 [==============================] - 3s 1ms/step - loss: 0.0566 - accuracy: 0.9815 - val_loss: 0.1251 - val_accuracy: 0.9652\nEpoch 3/100\n1984/2000 [============================>.] - ETA: 0s - loss: 0.0549 - accuracy: 0.9824\nEpoch 3: val_accuracy did not improve from 0.97180\n2000/2000 [==============================] - 3s 1ms/step - loss: 0.0551 - accuracy: 0.9824 - val_loss: 0.1096 - val_accuracy: 0.9692\nEpoch 4/100\n1968/2000 [============================>.] - ETA: 0s - loss: 0.0520 - accuracy: 0.9828\nEpoch 4: val_accuracy improved from 0.97180 to 0.97330, saving model to task3model\n"
        },
        {
          "output_type": "stream",
          "name": "stderr",
          "text": "WARNING:absl:Found untraced functions such as _update_step_xla while saving (showing 1 of 1). These functions will not be directly callable after loading.\n"
        },
        {
          "output_type": "stream",
          "name": "stdout",
          "text": "INFO:tensorflow:Assets written to: task3model\\assets\n"
        },
        {
          "output_type": "stream",
          "name": "stderr",
          "text": "INFO:tensorflow:Assets written to: task3model\\assets\n"
        },
        {
          "output_type": "stream",
          "name": "stdout",
          "text": "2000/2000 [==============================] - 4s 2ms/step - loss: 0.0521 - accuracy: 0.9827 - val_loss: 0.0939 - val_accuracy: 0.9733\nEpoch 5/100\n1981/2000 [============================>.] - ETA: 0s - loss: 0.0459 - accuracy: 0.9846\nEpoch 5: val_accuracy did not improve from 0.97330\n2000/2000 [==============================] - 3s 1ms/step - loss: 0.0460 - accuracy: 0.9847 - val_loss: 0.1010 - val_accuracy: 0.9727\nEpoch 6/100\n1958/2000 [============================>.] - ETA: 0s - loss: 0.0437 - accuracy: 0.9857\nEpoch 6: val_accuracy improved from 0.97330 to 0.97380, saving model to task3model\n"
        },
        {
          "output_type": "stream",
          "name": "stderr",
          "text": "WARNING:absl:Found untraced functions such as _update_step_xla while saving (showing 1 of 1). These functions will not be directly callable after loading.\n"
        },
        {
          "output_type": "stream",
          "name": "stdout",
          "text": "INFO:tensorflow:Assets written to: task3model\\assets\n"
        },
        {
          "output_type": "stream",
          "name": "stderr",
          "text": "INFO:tensorflow:Assets written to: task3model\\assets\n"
        },
        {
          "output_type": "stream",
          "name": "stdout",
          "text": "2000/2000 [==============================] - 4s 2ms/step - loss: 0.0435 - accuracy: 0.9857 - val_loss: 0.1014 - val_accuracy: 0.9738\nEpoch 7/100\n1967/2000 [============================>.] - ETA: 0s - loss: 0.0444 - accuracy: 0.9849\nEpoch 7: val_accuracy improved from 0.97380 to 0.97420, saving model to task3model\n"
        },
        {
          "output_type": "stream",
          "name": "stderr",
          "text": "WARNING:absl:Found untraced functions such as _update_step_xla while saving (showing 1 of 1). These functions will not be directly callable after loading.\n"
        },
        {
          "output_type": "stream",
          "name": "stdout",
          "text": "INFO:tensorflow:Assets written to: task3model\\assets\n"
        },
        {
          "output_type": "stream",
          "name": "stderr",
          "text": "INFO:tensorflow:Assets written to: task3model\\assets\n"
        },
        {
          "output_type": "stream",
          "name": "stdout",
          "text": "2000/2000 [==============================] - 4s 2ms/step - loss: 0.0442 - accuracy: 0.9849 - val_loss: 0.1025 - val_accuracy: 0.9742\nEpoch 8/100\n1990/2000 [============================>.] - ETA: 0s - loss: 0.0427 - accuracy: 0.9854\nEpoch 8: val_accuracy improved from 0.97420 to 0.97650, saving model to task3model\n"
        },
        {
          "output_type": "stream",
          "name": "stderr",
          "text": "WARNING:absl:Found untraced functions such as _update_step_xla while saving (showing 1 of 1). These functions will not be directly callable after loading.\n"
        },
        {
          "output_type": "stream",
          "name": "stdout",
          "text": "INFO:tensorflow:Assets written to: task3model\\assets\n"
        },
        {
          "output_type": "stream",
          "name": "stderr",
          "text": "INFO:tensorflow:Assets written to: task3model\\assets\n"
        },
        {
          "output_type": "stream",
          "name": "stdout",
          "text": "2000/2000 [==============================] - 4s 2ms/step - loss: 0.0426 - accuracy: 0.9854 - val_loss: 0.0932 - val_accuracy: 0.9765\nEpoch 9/100\n1965/2000 [============================>.] - ETA: 0s - loss: 0.0386 - accuracy: 0.9866\nEpoch 9: val_accuracy did not improve from 0.97650\n2000/2000 [==============================] - 3s 1ms/step - loss: 0.0383 - accuracy: 0.9866 - val_loss: 0.1085 - val_accuracy: 0.9735\nEpoch 10/100\n1982/2000 [============================>.] - ETA: 0s - loss: 0.0393 - accuracy: 0.9864\nEpoch 10: val_accuracy did not improve from 0.97650\n2000/2000 [==============================] - 3s 1ms/step - loss: 0.0394 - accuracy: 0.9865 - val_loss: 0.1317 - val_accuracy: 0.9667\nEpoch 11/100\n1980/2000 [============================>.] - ETA: 0s - loss: 0.0380 - accuracy: 0.9867\nEpoch 11: val_accuracy did not improve from 0.97650\n2000/2000 [==============================] - 3s 1ms/step - loss: 0.0382 - accuracy: 0.9867 - val_loss: 0.1088 - val_accuracy: 0.9722\nEpoch 12/100\n1997/2000 [============================>.] - ETA: 0s - loss: 0.0337 - accuracy: 0.9883\nEpoch 12: val_accuracy did not improve from 0.97650\n2000/2000 [==============================] - 4s 2ms/step - loss: 0.0337 - accuracy: 0.9883 - val_loss: 0.1215 - val_accuracy: 0.9708\nEpoch 13/100\n1994/2000 [============================>.] - ETA: 0s - loss: 0.0348 - accuracy: 0.9880\nEpoch 13: val_accuracy did not improve from 0.97650\n2000/2000 [==============================] - 3s 2ms/step - loss: 0.0347 - accuracy: 0.9880 - val_loss: 0.1000 - val_accuracy: 0.9759\nEpoch 14/100\n1976/2000 [============================>.] - ETA: 0s - loss: 0.0301 - accuracy: 0.9897\nEpoch 14: val_accuracy did not improve from 0.97650\n2000/2000 [==============================] - 3s 1ms/step - loss: 0.0301 - accuracy: 0.9897 - val_loss: 0.1187 - val_accuracy: 0.9740\nEpoch 15/100\n1995/2000 [============================>.] - ETA: 0s - loss: 0.0335 - accuracy: 0.9884\nEpoch 15: val_accuracy did not improve from 0.97650\n2000/2000 [==============================] - 3s 2ms/step - loss: 0.0334 - accuracy: 0.9884 - val_loss: 0.1231 - val_accuracy: 0.9715\nEpoch 16/100\n1986/2000 [============================>.] - ETA: 0s - loss: 0.0313 - accuracy: 0.9899\nEpoch 16: val_accuracy did not improve from 0.97650\n2000/2000 [==============================] - 3s 2ms/step - loss: 0.0315 - accuracy: 0.9898 - val_loss: 0.1066 - val_accuracy: 0.9752\nEpoch 17/100\n1963/2000 [============================>.] - ETA: 0s - loss: 0.0303 - accuracy: 0.9895\nEpoch 17: val_accuracy did not improve from 0.97650\n2000/2000 [==============================] - 3s 1ms/step - loss: 0.0309 - accuracy: 0.9894 - val_loss: 0.1535 - val_accuracy: 0.9659\nEpoch 18/100\n1989/2000 [============================>.] - ETA: 0s - loss: 0.0292 - accuracy: 0.9898\nEpoch 18: val_accuracy did not improve from 0.97650\n2000/2000 [==============================] - 3s 2ms/step - loss: 0.0291 - accuracy: 0.9898 - val_loss: 0.1167 - val_accuracy: 0.9737\nEpoch 18: early stopping\n"
        },
        {
          "output_type": "execute_result",
          "execution_count": 10,
          "data": {
            "text/plain": "<keras.callbacks.History at 0x199c39eed90>"
          },
          "metadata": {}
        }
      ],
      "execution_count": 10,
      "metadata": {}
    },
    {
      "cell_type": "markdown",
      "source": [
        "### 📚 Task 8\n",
        "##### Show information concerning accuracy of the classification on the training and test material."
      ],
      "metadata": {}
    },
    {
      "cell_type": "code",
      "source": [
        "# [loss, accuracy]\n",
        "print(\"Train loss and accuracy: \", train_accuracy)\n",
        "print(\"Test loss and accuracy: \", test_accuracy)"
      ],
      "outputs": [
        {
          "output_type": "stream",
          "name": "stdout",
          "text": "Train loss and accuracy:  [0.05087598040699959, 0.9833499789237976]\nTest loss and accuracy:  [0.10012723505496979, 0.9718000292778015]\n"
        }
      ],
      "execution_count": 11,
      "metadata": {}
    },
    {
      "cell_type": "markdown",
      "source": [
        "### 📚 Task 9\n",
        "##### Generate a chart showing the network learning process."
      ],
      "metadata": {}
    },
    {
      "cell_type": "code",
      "source": [
        "plt.plot(history.history['loss'], label='Training Loss')\n",
        "plt.plot(history.history['val_loss'], label='Validation Loss')\n",
        "plt.xlabel('Epoch')\n",
        "plt.ylabel('Loss')\n",
        "plt.legend()\n",
        "plt.show()\n",
        "\n",
        "plt.plot(history.history['accuracy'], label='Training Accuracy')\n",
        "plt.plot(history.history['val_accuracy'], label='Validation Accuracy')\n",
        "plt.xlabel('Epoch')\n",
        "plt.ylabel('Accuracy')\n",
        "plt.legend()\n",
        "plt.show()"
      ],
      "outputs": [
        {
          "output_type": "display_data",
          "data": {
            "image/png": "[encoded data removed]",
            "text/plain": "<Figure size 640x480 with 1 Axes>"
          },
          "metadata": {}
        },
        {
          "output_type": "display_data",
          "data": {
            "image/png": "[encoded data removed]",
            "text/plain": "<Figure size 640x480 with 1 Axes>"
          },
          "metadata": {}
        }
      ],
      "execution_count": 12,
      "metadata": {}
    },
    {
      "cell_type": "markdown",
      "source": [
        "### 📚 Task 10\n",
        "##### Try another loss function (Poison). Does such a function make sense in the case of our data set?"
      ],
      "metadata": {
        "colab": {
          "base_uri": "https://localhost:8080/"
        },
        "id": "vor0CQ8gCY4d",
        "outputId": "d912f9df-9fd5-42b2-c090-70f5d2a5c512"
      }
    },
    {
      "cell_type": "code",
      "source": [
        "model2 = Sequential([\n",
        "  Dense(64, activation='relu', input_shape=(784,)),\n",
        "  Dense(64, activation='relu'),\n",
        "  Dense(10, activation='softmax'),\n",
        "])\n",
        "\n",
        "model2.compile(\n",
        "    optimizer='adam',\n",
        "    loss='poisson',\n",
        "    metrics=['accuracy']\n",
        ")\n",
        "\n",
        "model2.fit(\n",
        "  x=train_images,\n",
        "  y=to_categorical(train_labels),\n",
        "  validation_data=(test_images, to_categorical(test_labels)),\n",
        "  epochs=10,\n",
        "  verbose=1,\n",
        "  batch_size=30\n",
        ")\n"
      ],
      "outputs": [
        {
          "output_type": "stream",
          "name": "stdout",
          "text": "Epoch 1/10\n2000/2000 [==============================] - 4s 2ms/step - loss: 0.1348 - accuracy: 0.8950 - val_loss: 0.1198 - val_accuracy: 0.9375\nEpoch 2/10\n2000/2000 [==============================] - 3s 1ms/step - loss: 0.1182 - accuracy: 0.9442 - val_loss: 0.1158 - val_accuracy: 0.9510\nEpoch 3/10\n2000/2000 [==============================] - 3s 1ms/step - loss: 0.1139 - accuracy: 0.9578 - val_loss: 0.1139 - val_accuracy: 0.9533\nEpoch 4/10\n2000/2000 [==============================] - 3s 1ms/step - loss: 0.1118 - accuracy: 0.9620 - val_loss: 0.1112 - val_accuracy: 0.9658\nEpoch 5/10\n2000/2000 [==============================] - 3s 1ms/step - loss: 0.1100 - accuracy: 0.9689 - val_loss: 0.1122 - val_accuracy: 0.9608\nEpoch 6/10\n2000/2000 [==============================] - 3s 1ms/step - loss: 0.1089 - accuracy: 0.9723 - val_loss: 0.1100 - val_accuracy: 0.9692\nEpoch 7/10\n2000/2000 [==============================] - 3s 2ms/step - loss: 0.1082 - accuracy: 0.9742 - val_loss: 0.1102 - val_accuracy: 0.9692\nEpoch 8/10\n2000/2000 [==============================] - 3s 2ms/step - loss: 0.1074 - accuracy: 0.9763 - val_loss: 0.1112 - val_accuracy: 0.9669\nEpoch 9/10\n2000/2000 [==============================] - 3s 1ms/step - loss: 0.1067 - accuracy: 0.9782 - val_loss: 0.1106 - val_accuracy: 0.9689\nEpoch 10/10\n2000/2000 [==============================] - 3s 1ms/step - loss: 0.1064 - accuracy: 0.9795 - val_loss: 0.1093 - val_accuracy: 0.9709\n"
        },
        {
          "output_type": "execute_result",
          "execution_count": 13,
          "data": {
            "text/plain": "<keras.callbacks.History at 0x199c2fbae80>"
          },
          "metadata": {}
        }
      ],
      "execution_count": 13,
      "metadata": {}
    },
    {
      "cell_type": "markdown",
      "source": [
        "### 📚 Task 11\n",
        "##### Try another optimizer (use the Adadelta algorithm). Do you see any changes in model parametrs compared to the algorithm used in the tutorial (adam)? Why do we see differences? (see https://keras.io/api/optimizers/adadelta)."
      ],
      "metadata": {}
    },
    {
      "cell_type": "code",
      "source": [
        "model3 = Sequential([\n",
        "  Dense(64, activation='relu', input_shape=(784,)),\n",
        "  Dense(64, activation='relu'),\n",
        "  Dense(10, activation='softmax'),\n",
        "])\n",
        "\n",
        "model3.compile(\n",
        "    optimizer='adadelta',\n",
        "    loss='categorical_crossentropy',\n",
        "    metrics=['accuracy']\n",
        ")\n",
        "model3.fit(\n",
        "  train_images,\n",
        "  to_categorical(train_labels),\n",
        "  epochs=10,\n",
        "  batch_size=20,\n",
        ") "
      ],
      "outputs": [
        {
          "output_type": "stream",
          "name": "stdout",
          "text": "Epoch 1/10\n3000/3000 [==============================] - 4s 1ms/step - loss: 2.2116 - accuracy: 0.2174\nEpoch 2/10\n3000/3000 [==============================] - 4s 1ms/step - loss: 2.0339 - accuracy: 0.4094\nEpoch 3/10\n3000/3000 [==============================] - 4s 1ms/step - loss: 1.8564 - accuracy: 0.5460\nEpoch 4/10\n3000/3000 [==============================] - 4s 1ms/step - loss: 1.6963 - accuracy: 0.6091\nEpoch 5/10\n3000/3000 [==============================] - 4s 1ms/step - loss: 1.5452 - accuracy: 0.6528\nEpoch 6/10\n3000/3000 [==============================] - 4s 1ms/step - loss: 1.4097 - accuracy: 0.6868\nEpoch 7/10\n3000/3000 [==============================] - 4s 1ms/step - loss: 1.2916 - accuracy: 0.7119\nEpoch 8/10\n3000/3000 [==============================] - 4s 1ms/step - loss: 1.1898 - accuracy: 0.7332\nEpoch 9/10\n3000/3000 [==============================] - 4s 1ms/step - loss: 1.1021 - accuracy: 0.7508\nEpoch 10/10\n3000/3000 [==============================] - 4s 1ms/step - loss: 1.0269 - accuracy: 0.7667\n"
        },
        {
          "output_type": "execute_result",
          "execution_count": 14,
          "data": {
            "text/plain": "<keras.callbacks.History at 0x199c10d1730>"
          },
          "metadata": {}
        }
      ],
      "execution_count": 14,
      "metadata": {
        "id": "2xiPZFscR6fQ"
      }
    },
    {
      "cell_type": "code",
      "source": [
        "adam_params = model.get_weights()\n",
        "adadelta_params = model3.get_weights()\n",
        "\n",
        "print(\"Example of weights for adam optimizer: \", adam_params[1])\n",
        "print(\"Example of weights for adadelta optimizer: \",adadelta_params[1])\n"
      ],
      "outputs": [
        {
          "output_type": "stream",
          "name": "stdout",
          "text": "Example of weights for adam optimizer:  [-0.03723502 -0.01860112  0.01756943 -0.00600087 -0.00598244 -0.00716536\n  0.0120316  -0.00761917  0.04328827  0.00978949 -0.01343166 -0.02931117\n -0.00445881 -0.00727961 -0.01790184 -0.00575987 -0.00998841 -0.00545954\n  0.00717542 -0.00641199 -0.04235329  0.02523164  0.01478039 -0.02162871\n -0.00137202 -0.00961313 -0.0435396  -0.02893846 -0.00599787 -0.03035153\n -0.01015924  0.01537359 -0.0082749  -0.00981563 -0.02446915 -0.04753216\n -0.0295243   0.04039575  0.00119515  0.02088849 -0.04364736 -0.02964013\n -0.00811503  0.0060068   0.01350174 -0.00555541  0.00606685 -0.00575567\n -0.01077298 -0.01110904 -0.00770816  0.03662077 -0.0055561  -0.00445388\n -0.03167544  0.04751602 -0.01130704 -0.01465046 -0.00748663 -0.04488075\n -0.00265858  0.03907828 -0.01324276 -0.00845152]\nExample of weights for adadelta optimizer:  [ 6.6404603e-04  2.7584303e-03  7.8305956e-03  2.0397333e-03\n  1.1434426e-03  5.4878141e-03  1.2250529e-03 -1.1171653e-03\n  8.9498836e-04  4.0668254e-03  3.0860170e-03  2.5303918e-03\n  1.3544015e-04  2.1997858e-03  2.5622563e-03  1.9313939e-03\n  3.1219753e-03  4.0610312e-03  4.6484331e-03  1.1750557e-02\n  6.1040525e-03  4.9886662e-03  7.2647299e-04  1.0916302e-02\n  7.1653123e-03 -9.2584715e-04  2.3147904e-03  3.2948398e-03\n  2.5334763e-03  2.6365172e-03  4.8755170e-03  4.3382836e-03\n  5.6212717e-03  4.6874755e-03  3.1792491e-03  8.8333763e-04\n  2.1331913e-03  3.2957431e-03  3.0419081e-03  1.0919439e-02\n  7.0587371e-04  1.9728702e-03  4.6829162e-03  7.3206113e-03\n  4.3585072e-03  3.3218404e-03  4.2516692e-03  6.0249944e-03\n  3.7902446e-05  7.9777213e-03  1.2074986e-03  4.6189763e-03\n  4.6187022e-04  5.1640193e-03  2.3019293e-03 -1.0122770e-03\n  4.8172041e-03 -3.9836015e-03  3.0810521e-03 -1.5770117e-03\n  2.8371834e-04  9.6122833e-04  2.3770535e-03  3.6853619e-03]\n"
        }
      ],
      "execution_count": 15,
      "metadata": {}
    },
    {
      "cell_type": "markdown",
      "source": [
        "\n",
        "TASK 10\n",
        "The results obtained using \"poisson\" as the optimizer are quite similar to the previous ones.\n",
        "\n",
        "Task 11\n",
        "I have observed significant differences in the performance of the model when using the \"adam\" and \"adadelta\" algorithms. The \"adadelta\" algorithm required a significantly higher number of epochs and failed to achieve the same level of accuracy and loss as the \"adam\" algorithm for our model. This is because \"adam\" adjusts the learning rate based on both the first and second moments of the gradients, while \"adadelta\" only considers the first moment and scales it based on the running average of recent gradients. As a result, \"adadelta\" showed a gradual improvement curve but ultimately performed worse with our model, at least with the data we used.\n"
      ],
      "metadata": {}
    }
  ],
  "metadata": {
    "accelerator": "GPU",
    "colab": {
      "collapsed_sections": [],
      "name": "9. Data Science z Python 3.10. Optymalizator, funkcja straty i early stopping.ipynb",
      "provenance": []
    },
    "kernelspec": {
      "display_name": "Python 3.9.13 ('base')",
      "language": "python",
      "name": "python3"
    },
    "language_info": {
      "codemirror_mode": {
        "name": "ipython",
        "version": 3
      },
      "file_extension": ".py",
      "mimetype": "text/x-python",
      "name": "python",
      "nbconvert_exporter": "python",
      "pygments_lexer": "ipython3",
      "version": "3.9.13"
    },
    "vscode": {
      "interpreter": {
        "hash": "ad2bdc8ecc057115af97d19610ffacc2b4e99fae6737bb82f5d7fb13d2f2c186"
      }
    },
    "nteract": {
      "version": "nteract-front-end@1.0.0"
    }
  },
  "nbformat": 4,
  "nbformat_minor": 1
}