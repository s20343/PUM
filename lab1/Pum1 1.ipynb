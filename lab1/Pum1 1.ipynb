{
 "cells": [
  {
   "cell_type": "markdown",
   "id": "a6cffc38",
   "metadata": {},
   "source": [
    "Task1\n",
    "Create \"x\" variable with value \"5.29\". Using math module return the cosine of a number."
   ]
  },
  {
   "cell_type": "code",
   "execution_count": 6,
   "id": "64802601",
   "metadata": {},
   "outputs": [
    {
     "name": "stdout",
     "output_type": "stream",
     "text": [
      "0.5460240819816483\n"
     ]
    }
   ],
   "source": [
    "import math\n",
    "\n",
    "x = 5.29\n",
    "\n",
    "cos_x = math.cos(x)\n",
    "\n",
    "print(cos_x)"
   ]
  },
  {
   "cell_type": "markdown",
   "id": "c0b91122",
   "metadata": {},
   "source": [
    "Task2\n",
    "Create \"x\" variable with value \"One\"; \"y\" variable with value \"Apple\"; variable \"z\" with value \"computer\". Create and print \"a\" variable with all variables (x, y, z)."
   ]
  },
  {
   "cell_type": "code",
   "execution_count": 1,
   "id": "632f762f",
   "metadata": {},
   "outputs": [
    {
     "name": "stdout",
     "output_type": "stream",
     "text": [
      "One, Apple, computer\n"
     ]
    }
   ],
   "source": [
    "x = \"One\"\n",
    "y = \"Apple\"\n",
    "z = \"computer\"\n",
    "\n",
    "a = x + \", \" + y + \", \" + z\n",
    "\n",
    "print(a)"
   ]
  },
  {
   "cell_type": "markdown",
   "id": "c873ccd3",
   "metadata": {},
   "source": [
    "Task3\n",
    "Create  new list (\"x\") with five elements (\"Windows\", \"macOS\", \"Linux\", \"iOS\", \"Android\"). Print only the last element. Delete the last element. Add new element to the list (\"Ubuntu\"). Sort the list. remember to start words with lowercase letters, for example use this loop: for i in range(len(x)): x[i]=x[i].lower()"
   ]
  },
  {
   "cell_type": "code",
   "execution_count": 1,
   "id": "74d5c5d8",
   "metadata": {},
   "outputs": [
    {
     "name": "stdout",
     "output_type": "stream",
     "text": [
      "Android\n",
      "['ios', 'linux', 'macos', 'ubuntu', 'windows']\n"
     ]
    }
   ],
   "source": [
    "x = [\"Windows\", \"macOS\", \"Linux\", \"iOS\", \"Android\"]\n",
    "\n",
    "print(x[-1])\n",
    "del x[-1]\n",
    "x.append(\"Ubuntu\")\n",
    "for i in range(len(x)):\n",
    "    x[i] = x[i].lower()\n",
    "x.sort()\n",
    "print(x)"
   ]
  },
  {
   "cell_type": "markdown",
   "id": "c9ff3d17",
   "metadata": {},
   "source": [
    "Task4\n",
    "Create new dictionary (\"x\"). Dictionary should consist of several names and surnames (Danuta Brzezińska, Krystyna Kamińska, Teresa Maciejewska, Aleksy Szczepański, Karol Andrzejewski, Kacper Kaźmierczak). Enter information about the grades. Danuta Brzezińska and Krystyna Kamińska - 5; Teresa Maciejewska - 4, Aleksy Szczepański and Karol Andrzejewski - 4.5. In case of Kacper Kaźmierczak enter two grades - 5 oraz 4.5."
   ]
  },
  {
   "cell_type": "code",
   "execution_count": 4,
   "id": "0112ae23",
   "metadata": {},
   "outputs": [
    {
     "name": "stdout",
     "output_type": "stream",
     "text": [
      "{'Danuta Brzezińska': 5, 'Krystyna Kamińska': 5, 'Teresa Maciejewska': 4, 'Aleksy Szczepański': 4.5, 'Karol Andrzejewski': 4.5, 'Kacper Kaźmierczak': [5, 4.5]}\n"
     ]
    }
   ],
   "source": [
    "x = {\n",
    "    \"Danuta Brzezińska\": 5,\n",
    "    \"Krystyna Kamińska\": 5,\n",
    "    \"Teresa Maciejewska\": 4,\n",
    "    \"Aleksy Szczepański\": 4.5,\n",
    "    \"Karol Andrzejewski\": 4.5,\n",
    "    \"Kacper Kaźmierczak\": [5, 4.5]\n",
    "}\n",
    "print(x)"
   ]
  }
 ],
 "metadata": {
  "kernelspec": {
   "display_name": "Python 3.9.13 ('base')",
   "language": "python",
   "name": "python3"
  },
  "language_info": {
   "codemirror_mode": {
    "name": "ipython",
    "version": 3
   },
   "file_extension": ".py",
   "mimetype": "text/x-python",
   "name": "python",
   "nbconvert_exporter": "python",
   "pygments_lexer": "ipython3",
   "version": "3.9.13"
  },
  "vscode": {
   "interpreter": {
    "hash": "ad2bdc8ecc057115af97d19610ffacc2b4e99fae6737bb82f5d7fb13d2f2c186"
   }
  }
 },
 "nbformat": 4,
 "nbformat_minor": 5
}
